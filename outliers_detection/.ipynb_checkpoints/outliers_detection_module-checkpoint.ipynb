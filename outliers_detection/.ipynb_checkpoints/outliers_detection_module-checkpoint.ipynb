{
 "cells": [
  {
   "cell_type": "code",
   "execution_count": 1,
   "metadata": {},
   "outputs": [
    {
     "name": "stdout",
     "output_type": "stream",
     "text": [
      "Overwriting C:\\Users\\Irinap\\Diploma\\outlier_removal.py\n"
     ]
    }
   ],
   "source": [
    "%%writefile C:\\Users\\Irinap\\Diploma\\outlier_removal.py\n",
    "\n",
    "# identify outliers with standard deviation\n",
    "\n",
    "import pandas as pd\n",
    "import numpy as np\n",
    "from numpy.random import seed\n",
    "from numpy.random import randn\n",
    "from numpy import mean\n",
    "from numpy import std\n",
    "\n",
    "def detect_outliers(data):\n",
    "    \n",
    "    # calculate summary statistics\n",
    "\n",
    "    data_mean = []\n",
    "    data_std = []\n",
    "    for i in range(len(data.columns)):\n",
    "        data_mean.append(mean(data[data.columns[i]]))\n",
    "        data_std.append(std(data[data.columns[i]]))\n",
    "    \n",
    "    stats = pd.DataFrame({'data_mean': data_mean,\n",
    "                      'data_std': data_std,\n",
    "                      'two_sigma': np.array(data_std)*2,\n",
    "                      'three_sigma': np.array(data_std)*3}, index=data.columns)\n",
    "    \n",
    "    # identify outliers\n",
    "\n",
    "    cut_off = np.array(stats.two_sigma)\n",
    "    stats['lower'], stats['upper'] = np.array(data_mean) - cut_off, np.array(data_mean) + cut_off\n",
    "\n",
    "    # identify outliers\n",
    "\n",
    "    outliers = pd.DataFrame(columns=data.columns)\n",
    "    for col in data.columns:\n",
    "        outliers[col] = [x for x in data[col] if x < stats.loc[col, 'lower'] or x > stats.loc[col, 'upper']]\n",
    "\n",
    "\n",
    "    number_outs = outliers.shape[0]*outliers.shape[1]\n",
    "    \n",
    "    # remove outliers\n",
    "\n",
    "    outliers_removed = pd.DataFrame(columns=data.columns)\n",
    "    for col in data.columns:\n",
    "        outliers_removed[col] = [x for x in data[col] if x > stats.loc[col, 'lower'] or x < stats.loc[col, 'upper']]\n",
    "\n",
    "\n",
    "\n",
    "    number_outs_rem = outliers_removed.shape[0]*outliers_removed.shape[1]\n",
    "    \n",
    "    return list(outliers_removed.index)"
   ]
  },
  {
   "cell_type": "code",
   "execution_count": null,
   "metadata": {},
   "outputs": [],
   "source": []
  }
 ],
 "metadata": {
  "kernelspec": {
   "display_name": "Python 3",
   "language": "python",
   "name": "python3"
  },
  "language_info": {
   "codemirror_mode": {
    "name": "ipython",
    "version": 3
   },
   "file_extension": ".py",
   "mimetype": "text/x-python",
   "name": "python",
   "nbconvert_exporter": "python",
   "pygments_lexer": "ipython3",
   "version": "3.6.5"
  }
 },
 "nbformat": 4,
 "nbformat_minor": 2
}
